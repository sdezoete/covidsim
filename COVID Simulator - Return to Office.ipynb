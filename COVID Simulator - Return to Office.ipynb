{
 "cells": [
  {
   "cell_type": "markdown",
   "metadata": {},
   "source": [
    "# COVID Simulator - Return to Office"
   ]
  },
  {
   "cell_type": "markdown",
   "metadata": {},
   "source": [
    "## Introduction\n",
    "\n",
    "The model will be based on discrete simulation with agents (people/employees) who can go through several states based on the SEIR model which is a model with the following states:\n",
    "* susceptible state: person can be infected \n",
    "* exposed : person is exposed and has a risk of being infected\n",
    "* infected: person is infected\n",
    "* recovered / fatal: person has recovered or passed away\n",
    "\n",
    "The model is based on the assumption that once recovered a person can not be infected again.\n",
    "\n",
    "Key states, variables and distribution for the simulation are:\n",
    "\n",
    "- Agents (N) = number of agents (employees) [integer]\n",
    "- Days (D) = number of days [integer]\n",
    "- Susceptible Agents (SA) = probability (part of population) agent will be susceptible for the virus [probability, Uniform Distribution]\n",
    "- Pre-Infected Agents = number of agents (employees) who are infected, but not aware\n",
    "- Interactions (I_lambda) = number of interactions sampled for each agent, each day [lambda, Poisson Distribution]\n",
    "- Interaction Agent (IA) = interaction is limited to one to one interactions, not taken into account group gatherings, etc., hence single interaction with a single agent in the population with equal probability [Agents (N), uniform distribution]<br>\n",
    "<b>NOTE:</b> Interaction is also not necessarily 'personal' interaction between two agents, it can be 'surface' interaction, e.g Agent A touches door handle and Agent B touches door handle almost immediately after Agent A.<br>\n",
    "- Interaction Mistake (IM) = probability that agent A was not uncareful [probability, Uniform Distribution]. Agent A only gets infected when this interaction was with an infected agent B. This is one-way only, if agent B was not careful, agent A will not be infected.\n",
    "- Agent Exposed (AE) = agent is exposed but not yet a carrier. In simulation it is assumed Infected Agent will start infecting others only the next day\n",
    "- Home Infections (HI) = probability agent get infected between days at home [probability, Uniform Distribution].\n",
    "- Agent Infected (AI) = agent is infected and will be infecting others during the incubation time\n",
    "- Incubation Time Mean (IT_mean) = mean of the time before infection is detected and agent is isolated from population (agents), [mean - Incubation Time]\n",
    "- Incubation Time Standard Deviation (IT_sd) = standard deviation of the time before infection is detected and agent is isolated from population (home or hospital) [standard deviation - Incubation Time]\n",
    "- RecoveryTime (RT) = lambda for recovery time [lambda, Exponential Distribution]\n",
    "- FatalityRate (FR) = probability infection is fatal [probability, Uniform Distribution]\n"
   ]
  },
  {
   "cell_type": "code",
   "execution_count": null,
   "metadata": {},
   "outputs": [],
   "source": [
    "import pandas as pd\n",
    "import numpy as np\n",
    "import matplotlib.pyplot as plt"
   ]
  },
  {
   "cell_type": "markdown",
   "metadata": {},
   "source": [
    "## Step 1: Set Simulation Variables"
   ]
  },
  {
   "cell_type": "code",
   "execution_count": null,
   "metadata": {},
   "outputs": [],
   "source": [
    "# initialize variables\n",
    "NumberOfAgents = 200\n",
    "NumberOfDays = 365\n",
    "ProbabilitySusceptible = 95\n",
    "PreInfectedAgents = 10\n",
    "LambdaInteractions = 10\n",
    "ProbabilityInteractionAgent = NumberOfAgents\n",
    "ProbabilityUnsafeInteraction = 2\n",
    "ProbabilityHomeInfections = 0.3\n",
    "MeanIncubationTime = 14\n",
    "StandardDeviationIncubationTime = 2\n",
    "LambdaRecoveryTime = 30\n",
    "ProbabilityFatality = 1.5\n",
    "NumberOfSimulationRuns = 10"
   ]
  },
  {
   "cell_type": "markdown",
   "metadata": {},
   "source": [
    "## Step 2: Create Agent Records"
   ]
  },
  {
   "cell_type": "markdown",
   "metadata": {},
   "source": [
    "Agent records will hold statistics and track the states of every individual agent for the simulation run."
   ]
  },
  {
   "cell_type": "code",
   "execution_count": null,
   "metadata": {},
   "outputs": [],
   "source": [
    "def create_agent_records(NumberOfAgents,\n",
    "                         ProbabilitySusceptible,\n",
    "                         PreInfectedAgents,\n",
    "                         MeanIncubationTime, # Incubation time is preset only used when infection occurs\n",
    "                         StandardDeviationIncubationTime,\n",
    "                         LambdaRecoveryTime, # Recovery time is preset only used when infection occurs\n",
    "                         ProbabilityFatality # If fatal is true, recovery time is no considered, agent is inactive permanently\n",
    "                        ):\n",
    "    \n",
    "    df_columns = ['id','active', 'susceptible', \n",
    "                  'infected', 'incubation_time', 'isolation_day',\n",
    "                  'isolated', 'recovery_time', 'recovery_day',\n",
    "                  'recovered', 'fatal']\n",
    "    \n",
    "    # Create agent records in DataFrame\n",
    "    record_list = []\n",
    "    for i in range (NumberOfAgents):\n",
    "        agent_id = i\n",
    "        agent_active = True\n",
    "        agent_susceptible = (np.random.uniform(0, 100) <= ProbabilitySusceptible) # True or False susceptible\n",
    "        agent_infected = (i+1 <= PreInfectedAgents) # True or False already infected day one\n",
    "        agent_incubation_time = int(np.random.normal(MeanIncubationTime, StandardDeviationIncubationTime))\n",
    "        agent_isolation_day = 0\n",
    "        if agent_infected:\n",
    "            agent_isolation_day = agent_incubation_time\n",
    "        agent_isolated = False\n",
    "        agent_recovery_time = int(np.random.exponential(LambdaRecoveryTime))\n",
    "        agent_recovery_day = 0\n",
    "        agent_recovered = False\n",
    "        agent_fatal = (np.random.uniform(0, 100) <= ProbabilityFatality) # True or False fatal\n",
    "        agent_record = [agent_id, agent_active, agent_susceptible,\n",
    "                        agent_infected, agent_incubation_time, agent_isolation_day,\n",
    "                        agent_isolated, agent_recovery_time, agent_recovery_day,\n",
    "                        agent_recovered, agent_fatal\n",
    "                       ]\n",
    "        record_list.append(agent_record)\n",
    "    df_agent_records = pd.DataFrame(record_list, columns=df_columns)\n",
    "    return df_agent_records\n"
   ]
  },
  {
   "cell_type": "code",
   "execution_count": null,
   "metadata": {},
   "outputs": [],
   "source": [
    "df_agent_records = create_agent_records(NumberOfAgents = NumberOfAgents,\n",
    "                                         ProbabilitySusceptible = ProbabilitySusceptible,\n",
    "                                         PreInfectedAgents = PreInfectedAgents,\n",
    "                                         MeanIncubationTime = MeanIncubationTime, \n",
    "                                         StandardDeviationIncubationTime = StandardDeviationIncubationTime,\n",
    "                                         LambdaRecoveryTime = LambdaRecoveryTime,\n",
    "                                         ProbabilityFatality = ProbabilityFatality\n",
    "                                        )"
   ]
  },
  {
   "cell_type": "code",
   "execution_count": null,
   "metadata": {},
   "outputs": [],
   "source": [
    "df_agent_records"
   ]
  },
  {
   "cell_type": "markdown",
   "metadata": {},
   "source": [
    "## Step 3: Run Simulation"
   ]
  },
  {
   "cell_type": "markdown",
   "metadata": {},
   "source": [
    "Few Assumptions for simulation runs:\n",
    "1. If agent is inactive or isolated, it will still be drawn in the interaction pool, but will be discarded, this compensates that if less people are at work the interactions will also diminish\n",
    "2. If agent recovered, agent can not be infected again and can not be a carrier\n",
    "3. Interactions that lead to infection are the ones an uninfected agent has with an infected agent and made an interaction mistake"
   ]
  },
  {
   "cell_type": "code",
   "execution_count": null,
   "metadata": {},
   "outputs": [],
   "source": [
    "def simulate_agent_infected(df_agent_records, agent_id, \n",
    "                            ProbabilityHomeInfections, LambdaInteractions, \n",
    "                            NumberOfAgents, ProbabilityUnsafeInteraction\n",
    "                           ):\n",
    "    agent_infected = False\n",
    "    \n",
    "    # agent infected at home?\n",
    "    agent_infected = (np.random.uniform(0, 100) <= ProbabilityHomeInfections)\n",
    "    #print(\"home infected: \", agent_infected) # DEBUG\n",
    "    \n",
    "    # agent infected during interactions?\n",
    "    number_of_interactions = int(np.random.poisson(LambdaInteractions)) # number of interactions\n",
    "    agents_interactions_list = [int(x) for x in np.random.uniform(0, NumberOfAgents, number_of_interactions)] # agents\n",
    "    infect_interactions_list = [1 if df_agent_records.infected[x] else 0 for x in agents_interactions_list] # infected agents\n",
    "    unsafe_interactions_list = [1 if x <= ProbabilityUnsafeInteraction else 0 for \n",
    "                                x in np.random.uniform(0, 100, number_of_interactions)] # unsafe interactions\n",
    "    result_list = [a and b for a, b in zip(infect_interactions_list, unsafe_interactions_list)] # cross infected and unsafe\n",
    "    \n",
    "    if sum(result_list):\n",
    "        agent_infected = True\n",
    "        \n",
    "    # DEBUG: and explanation, see results\n",
    "    #print(agents_interactions_list)\n",
    "    #print(infect_interactions_list)\n",
    "    #print(unsafe_interactions_list)\n",
    "    #print(result_list)\n",
    "   \n",
    "    return agent_infected\n"
   ]
  },
  {
   "cell_type": "code",
   "execution_count": null,
   "metadata": {},
   "outputs": [],
   "source": [
    "## DEBUG: Simulate Function for testing\n",
    "#simulate_agent_infected(df_agent_records=df_agent_records, agent_id=1, \n",
    "#                        ProbabilityHomeInfections=ProbabilityHomeInfections, \n",
    "#                        LambdaInteractions=LambdaInteractions,\n",
    "#                        NumberOfAgents=NumberOfAgents,\n",
    "#                        ProbabilityUnsafeInteraction=ProbabilityUnsafeInteraction\n",
    "#                       )"
   ]
  },
  {
   "cell_type": "code",
   "execution_count": null,
   "metadata": {},
   "outputs": [],
   "source": [
    "def simulate_day(NumberOfAgents, day_number, df_agent_records, \n",
    "                 ProbabilityHomeInfections, LambdaInteractions, \n",
    "                 ProbabilityUnsafeInteraction):\n",
    "    # Check each agent\n",
    "    df_agent_records_today = df_agent_records.copy()\n",
    "    for i in range(NumberOfAgents):\n",
    "        # 1. Agent Inactive or recovered, no actions\n",
    "        if ((not df_agent_records_today.active[i]) \n",
    "            or (df_agent_records_today.recovered[i]) \n",
    "            or (not df_agent_records_today.susceptible[i])):\n",
    "            continue\n",
    "        \n",
    "        # 2. Agent in Isolation, check if recovery is due\n",
    "        if df_agent_records_today.isolated[i]:\n",
    "            if (df_agent_records.recovery_day[i] == day_number):\n",
    "                # data.loc[data.bidder == 'parakeet2004', 'bidderrate'] = 100\n",
    "                df_agent_records_today.loc[df_agent_records_today.id == i, 'recovered'] = True\n",
    "                df_agent_records_today.loc[df_agent_records_today.id == i, 'isolated'] = False\n",
    "            continue\n",
    "        \n",
    "        # 3. Agent is Infected, check if isolation is due\n",
    "        if df_agent_records_today.infected[i]:\n",
    "            if (df_agent_records_today.isolation_day[i] == day_number):\n",
    "                df_agent_records_today.loc[df_agent_records_today.id == i, 'isolated'] = True\n",
    "                df_agent_records_today.loc[df_agent_records_today.id == i, 'infected'] = False\n",
    "                recovery_day = df_agent_records_today.recovery_time[i] + day_number\n",
    "                df_agent_records_today.loc[df_agent_records_today.id == i, 'recovery_day'] = recovery_day\n",
    "                # no longer infection threat as agent isolated from employees\n",
    "            continue\n",
    "            \n",
    "        # 4. Agent is healty, simulate day\n",
    "        agent_infected = simulate_agent_infected(df_agent_records=df_agent_records, # send previous day record!\n",
    "                                                 agent_id=i, \n",
    "                                                 ProbabilityHomeInfections=ProbabilityHomeInfections, \n",
    "                                                 LambdaInteractions=LambdaInteractions,\n",
    "                                                 NumberOfAgents=NumberOfAgents,\n",
    "                                                 ProbabilityUnsafeInteraction=ProbabilityUnsafeInteraction\n",
    "                                                ) \n",
    "    \n",
    "        if agent_infected:\n",
    "            df_agent_records_today.loc[df_agent_records_today.id == i, 'infected'] = True\n",
    "            isolation_day = df_agent_records_today.incubation_time[i] + day_number\n",
    "            df_agent_records_today.loc[df_agent_records_today.id == i, 'isolation_day'] = isolation_day\n",
    "            # check fatality\n",
    "            if df_agent_records_today.fatal[i]:\n",
    "                df_agent_records_today.loc[df_agent_records_today.id == i, 'active'] = False\n",
    "        #print(i, df_agent_records_today.head())\n",
    "    return df_agent_records_today # todays record"
   ]
  },
  {
   "cell_type": "code",
   "execution_count": null,
   "metadata": {},
   "outputs": [],
   "source": [
    "# DEBUG: Function Testing\n",
    "simulate_day(NumberOfAgents=NumberOfAgents, day_number=1, df_agent_records=df_agent_records,\n",
    "                 ProbabilityHomeInfections=ProbabilityHomeInfections, LambdaInteractions=LambdaInteractions, \n",
    "                 ProbabilityUnsafeInteraction=ProbabilityUnsafeInteraction)"
   ]
  },
  {
   "cell_type": "code",
   "execution_count": null,
   "metadata": {},
   "outputs": [],
   "source": [
    "def simulation_run(NumberOfDays = NumberOfDays,\n",
    "                   NumberOfAgents = NumberOfAgents,\n",
    "                   ProbabilitySusceptible = ProbabilitySusceptible,\n",
    "                   PreInfectedAgents = PreInfectedAgents,\n",
    "                   MeanIncubationTime = MeanIncubationTime, \n",
    "                   StandardDeviationIncubationTime = StandardDeviationIncubationTime,\n",
    "                   LambdaRecoveryTime = LambdaRecoveryTime,\n",
    "                   ProbabilityFatality = ProbabilityFatality,\n",
    "                   ProbabilityHomeInfections=ProbabilityHomeInfections, \n",
    "                   LambdaInteractions=LambdaInteractions, \n",
    "                   ProbabilityUnsafeInteraction=ProbabilityUnsafeInteraction\n",
    "                  ):\n",
    "    # Create Agent Records\n",
    "    df_agent_records = create_agent_records(NumberOfAgents = NumberOfAgents,\n",
    "                                         ProbabilitySusceptible = ProbabilitySusceptible,\n",
    "                                         PreInfectedAgents = PreInfectedAgents,\n",
    "                                         MeanIncubationTime = MeanIncubationTime, \n",
    "                                         StandardDeviationIncubationTime = StandardDeviationIncubationTime,\n",
    "                                         LambdaRecoveryTime = LambdaRecoveryTime,\n",
    "                                         ProbabilityFatality = ProbabilityFatality\n",
    "                                        )\n",
    "    # Simulate number of days\n",
    "    df_agent_records_today = df_agent_records.copy()\n",
    "    sim_days_list = []\n",
    "    sim_days_list.append(df_agent_records_today)\n",
    "    for day_number in range(1, NumberOfDays+1): #starting day 1\n",
    "        df_agent_records_today = simulate_day(NumberOfAgents=NumberOfAgents, \n",
    "                                              day_number=day_number, \n",
    "                                              df_agent_records=df_agent_records_today,\n",
    "                                              ProbabilityHomeInfections=ProbabilityHomeInfections, \n",
    "                                              LambdaInteractions=LambdaInteractions, \n",
    "                                              ProbabilityUnsafeInteraction=ProbabilityUnsafeInteraction)\n",
    "    \n",
    "        sim_days_list.append(df_agent_records_today)\n",
    "    return sim_days_list"
   ]
  },
  {
   "cell_type": "code",
   "execution_count": null,
   "metadata": {
    "scrolled": false
   },
   "outputs": [],
   "source": [
    "simulation_run(NumberOfDays = NumberOfDays,\n",
    "                   NumberOfAgents = NumberOfAgents,\n",
    "                   ProbabilitySusceptible = ProbabilitySusceptible,\n",
    "                   PreInfectedAgents = PreInfectedAgents,\n",
    "                   MeanIncubationTime = MeanIncubationTime, \n",
    "                   StandardDeviationIncubationTime = StandardDeviationIncubationTime,\n",
    "                   LambdaRecoveryTime = LambdaRecoveryTime,\n",
    "                   ProbabilityFatality = ProbabilityFatality,\n",
    "                   ProbabilityHomeInfections=ProbabilityHomeInfections, \n",
    "                   LambdaInteractions=LambdaInteractions, \n",
    "                   ProbabilityUnsafeInteraction=ProbabilityUnsafeInteraction\n",
    "                  )"
   ]
  },
  {
   "cell_type": "markdown",
   "metadata": {},
   "source": [
    "### Full Simulation"
   ]
  },
  {
   "cell_type": "code",
   "execution_count": null,
   "metadata": {},
   "outputs": [],
   "source": [
    "# initialize variables\n",
    "NumberOfAgents = 200\n",
    "NumberOfDays = 365\n",
    "ProbabilitySusceptible = 95\n",
    "PreInfectedAgents = 10\n",
    "LambdaInteractions = 10\n",
    "ProbabilityInteractionAgent = NumberOfAgents\n",
    "ProbabilityUnsafeInteraction = 2\n",
    "ProbabilityHomeInfections = 0.3\n",
    "MeanIncubationTime = 14\n",
    "StandardDeviationIncubationTime = 2\n",
    "LambdaRecoveryTime = 30\n",
    "ProbabilityFatality = 1.5\n",
    "NumberOfSimulationRuns = 10"
   ]
  },
  {
   "cell_type": "code",
   "execution_count": null,
   "metadata": {},
   "outputs": [],
   "source": [
    "def full_simulation(NumberOfDays = NumberOfDays,\n",
    "                    NumberOfAgents = NumberOfAgents,\n",
    "                    NumberOfSimulationRuns = NumberOfSimulationRuns,\n",
    "                    ProbabilitySusceptible = ProbabilitySusceptible,\n",
    "                    PreInfectedAgents = PreInfectedAgents,\n",
    "                    MeanIncubationTime = MeanIncubationTime, \n",
    "                    StandardDeviationIncubationTime = StandardDeviationIncubationTime,\n",
    "                    LambdaRecoveryTime = LambdaRecoveryTime,\n",
    "                    ProbabilityFatality = ProbabilityFatality,\n",
    "                    ProbabilityHomeInfections=ProbabilityHomeInfections, \n",
    "                    LambdaInteractions=LambdaInteractions, \n",
    "                    ProbabilityUnsafeInteraction=ProbabilityUnsafeInteraction):\n",
    "    simulation_list = []\n",
    "    for i in range(NumberOfSimulationRuns):\n",
    "        print(\"Simulation Run: \", i)\n",
    "        sim_days_list = simulation_run(NumberOfDays = NumberOfDays,\n",
    "                                       NumberOfAgents = NumberOfAgents,\n",
    "                                       ProbabilitySusceptible = ProbabilitySusceptible,\n",
    "                                       PreInfectedAgents = PreInfectedAgents,\n",
    "                                       MeanIncubationTime = MeanIncubationTime, \n",
    "                                       StandardDeviationIncubationTime = StandardDeviationIncubationTime,\n",
    "                                       LambdaRecoveryTime = LambdaRecoveryTime,\n",
    "                                       ProbabilityFatality = ProbabilityFatality,\n",
    "                                       ProbabilityHomeInfections=ProbabilityHomeInfections, \n",
    "                                       LambdaInteractions=LambdaInteractions, \n",
    "                                       ProbabilityUnsafeInteraction=ProbabilityUnsafeInteraction\n",
    "                                      )\n",
    "        simulation_list.append(sim_days_list)\n",
    "    return simulation_list"
   ]
  },
  {
   "cell_type": "code",
   "execution_count": null,
   "metadata": {},
   "outputs": [],
   "source": [
    "simulation_results =full_simulation(NumberOfDays = NumberOfDays,\n",
    "                                    NumberOfAgents = NumberOfAgents,\n",
    "                                    NumberOfSimulationRuns = NumberOfSimulationRuns,\n",
    "                                    ProbabilitySusceptible = ProbabilitySusceptible,\n",
    "                                    PreInfectedAgents = PreInfectedAgents,\n",
    "                                    MeanIncubationTime = MeanIncubationTime, \n",
    "                                    StandardDeviationIncubationTime = StandardDeviationIncubationTime,\n",
    "                                    LambdaRecoveryTime = LambdaRecoveryTime,\n",
    "                                    ProbabilityFatality = ProbabilityFatality,\n",
    "                                    ProbabilityHomeInfections=ProbabilityHomeInfections, \n",
    "                                    LambdaInteractions=LambdaInteractions, \n",
    "                                    ProbabilityUnsafeInteraction=ProbabilityUnsafeInteraction)"
   ]
  },
  {
   "cell_type": "markdown",
   "metadata": {},
   "source": [
    "## Step 4: Analytics and Visualization"
   ]
  },
  {
   "cell_type": "markdown",
   "metadata": {},
   "source": [
    "### Check Single Days"
   ]
  },
  {
   "cell_type": "code",
   "execution_count": null,
   "metadata": {},
   "outputs": [],
   "source": [
    "simulation_results[0][223]"
   ]
  },
  {
   "cell_type": "markdown",
   "metadata": {},
   "source": [
    "### Single Run Example"
   ]
  },
  {
   "cell_type": "code",
   "execution_count": null,
   "metadata": {},
   "outputs": [],
   "source": [
    "def count_column_boolean(df_list, column_name):\n",
    "    true_count_list = []\n",
    "    for i in range(len(df_list)):\n",
    "        df = df_list[i]\n",
    "        true_count = df[column_name].sum()\n",
    "        true_count_list.append(true_count)\n",
    "    return true_count_list  "
   ]
  },
  {
   "cell_type": "code",
   "execution_count": null,
   "metadata": {},
   "outputs": [],
   "source": [
    "# Single Run Example\n",
    "df_list = simulation_results[8] # chose a simulation result\n",
    "number_days = len(df_list)\n",
    "x1 = list(range(0, number_days))\n",
    "tc_active = count_column_boolean(df_list=df_list, column_name='active')\n",
    "tc_infected = count_column_boolean(df_list=df_list, column_name='infected')\n",
    "tc_isolated = count_column_boolean(df_list=df_list, column_name='isolated')\n",
    "tc_recovered = count_column_boolean(df_list=df_list, column_name='recovered')\n",
    "tc_fatal = [NumberOfAgents-x for x in tc_active]\n",
    "tc_workforce_inactive = [x + y for x, y in zip(tc_isolated, tc_fatal)]\n",
    "tc_workforce_active = [NumberOfAgents-x for x in tc_workforce_inactive]"
   ]
  },
  {
   "cell_type": "code",
   "execution_count": null,
   "metadata": {},
   "outputs": [],
   "source": [
    "# Check / Debug\n",
    "print(x1)\n",
    "print(tc_active)\n",
    "print(tc_infected)\n",
    "print(tc_isolated)\n",
    "print(tc_recovered)\n",
    "print(tc_fatal)\n",
    "print(tc_workforce_inactive)\n",
    "print(tc_workforce_active)"
   ]
  },
  {
   "cell_type": "code",
   "execution_count": null,
   "metadata": {},
   "outputs": [],
   "source": [
    "# Set Font Size for Plotting\n",
    "font = {'family' : 'arial',\n",
    "        'weight' : 'bold',\n",
    "        'size'   : 22}\n",
    "\n",
    "plt.rc('font', **font)"
   ]
  },
  {
   "cell_type": "code",
   "execution_count": null,
   "metadata": {},
   "outputs": [],
   "source": [
    "# Plot the data\n",
    "# Prepare the data\n",
    "x = x1\n",
    "y1 = tc_infected\n",
    "y2 = tc_isolated\n",
    "y3 = tc_recovered\n",
    "y4 = tc_fatal\n",
    "y5 = tc_workforce_active\n",
    "plt.ylim(top = NumberOfAgents, bottom = 0)\n",
    "y_ticks = range(NumberOfAgents+1)\n",
    "#plt.subplot(1, 4, 4)\n",
    "plt.ylim(top = NumberOfAgents, bottom = 0)\n",
    "#plt.yticks(y_ticks)\n",
    "plt.plot(x, y1, label='infected', lw=5.0, color='red')\n",
    "plt.plot(x, y2, label='isolated', lw=5.0, color='yellow')\n",
    "plt.plot(x, y3, label='recovered', lw=5.0, color='blue')\n",
    "plt.plot(x, y4, label='fatal', lw=5.0, color='black')\n",
    "plt.plot(x, y5, label='workforce', lw=5.0, color='green')\n",
    "plt.legend()\n",
    "# Show the plots\n",
    "plt.show()"
   ]
  }
 ],
 "metadata": {
  "kernelspec": {
   "display_name": "Python 3",
   "language": "python",
   "name": "python3"
  },
  "language_info": {
   "codemirror_mode": {
    "name": "ipython",
    "version": 3
   },
   "file_extension": ".py",
   "mimetype": "text/x-python",
   "name": "python",
   "nbconvert_exporter": "python",
   "pygments_lexer": "ipython3",
   "version": "3.7.3"
  }
 },
 "nbformat": 4,
 "nbformat_minor": 2
}
